{
 "cells": [
  {
   "cell_type": "code",
   "execution_count": 212,
   "id": "8ef9f2c9-3dc9-4766-ad14-43f1bbcfd39e",
   "metadata": {},
   "outputs": [],
   "source": [
    "import requests\n",
    "import time\n",
    "import random\n",
    "import pandas as pd\n",
    "from tqdm import tqdm"
   ]
  },
  {
   "cell_type": "markdown",
   "id": "e55b4210-bdf1-477e-9916-9eb5cc4e9e8d",
   "metadata": {},
   "source": [
    "## Crawl product data from tiki.vn"
   ]
  },
  {
   "cell_type": "code",
   "execution_count": 213,
   "id": "a1dd0bc1-6428-4bff-97c3-8ec5c4acec80",
   "metadata": {},
   "outputs": [],
   "source": [
    "urlKey_lst = ['dien-thoai-smartphone', 'may-tinh-bang', 'may-doc-sach', 'dien-thoai-pho-thong', 'dien-thoai-ban', \\\n",
    "             'laptop-truyen-thong', 'macbook-imac', 'laptop-gaming', 'laptop-2-trong-1']\n",
    "category_lst = ['1795', '1794', '28856', '1796', '8061', '29010', '2458', '5584', '29008']\n",
    "src_lst = ['c' + elem for elem in category_lst]\n",
    "last_page = [7, 2, 2, 1, 2, 11, 1, 2, 1]"
   ]
  },
  {
   "cell_type": "code",
   "execution_count": 214,
   "id": "a10571aa-5f7c-41d8-b26e-62b7901b3571",
   "metadata": {},
   "outputs": [
    {
     "data": {
      "text/plain": [
       "[('dien-thoai-smartphone', '1795', 'c1795', 7),\n",
       " ('may-tinh-bang', '1794', 'c1794', 2),\n",
       " ('may-doc-sach', '28856', 'c28856', 2),\n",
       " ('dien-thoai-pho-thong', '1796', 'c1796', 1),\n",
       " ('dien-thoai-ban', '8061', 'c8061', 2),\n",
       " ('laptop-truyen-thong', '29010', 'c29010', 11),\n",
       " ('macbook-imac', '2458', 'c2458', 1),\n",
       " ('laptop-gaming', '5584', 'c5584', 2),\n",
       " ('laptop-2-trong-1', '29008', 'c29008', 1)]"
      ]
     },
     "execution_count": 214,
     "metadata": {},
     "output_type": "execute_result"
    }
   ],
   "source": [
    "product_tpls = list(zip(urlKey_lst, category_lst, src_lst, last_page))\n",
    "product_tpls"
   ]
  },
  {
   "cell_type": "code",
   "execution_count": 215,
   "id": "f9f335df-b72c-4302-bc0a-e4a881b5caaf",
   "metadata": {},
   "outputs": [],
   "source": [
    "def parser_product(json):\n",
    "    try:\n",
    "        d = dict()\n",
    "        d['id'] = json.get('id')\n",
    "        d['product_name'] = json.get('name')\n",
    "        d['price(vnd)'] = json.get('price')\n",
    "        d['original_price'] = json.get('original_price')\n",
    "        d['discount'] = json.get('discount')\n",
    "        d['discount_rate(%)'] = json.get('discount_rate')\n",
    "        d['review_count'] = json.get('review_count')\n",
    "        d['rating_average'] = json.get('rating_average')\n",
    "        d['quantity_sold'] = json.get('quantity_sold').get('value')\n",
    "        d['brand_name'] = json.get('visible_impression_info').get('amplitude').get('brand_name')\n",
    "        d['origin'] = json.get('visible_impression_info').get('amplitude').get('origin')\n",
    "        \n",
    "    except:\n",
    "        pass\n",
    "        \n",
    "    return d"
   ]
  },
  {
   "cell_type": "code",
   "execution_count": 216,
   "id": "c97b1518-66fe-4ecf-8bdc-fa844ccb1cf1",
   "metadata": {},
   "outputs": [
    {
     "name": "stderr",
     "output_type": "stream",
     "text": [
      "  0%|                                                                                   | 0/9 [00:00<?, ?it/s]"
     ]
    },
    {
     "name": "stdout",
     "output_type": "stream",
     "text": [
      "request successed!!!\n",
      "request successed!!!\n",
      "request successed!!!\n",
      "request successed!!!\n",
      "request successed!!!\n",
      "request successed!!!\n",
      "request successed!!!\n"
     ]
    },
    {
     "name": "stderr",
     "output_type": "stream",
     "text": [
      " 11%|████████▎                                                                  | 1/9 [00:48<06:29, 48.67s/it]"
     ]
    },
    {
     "name": "stdout",
     "output_type": "stream",
     "text": [
      "request successed!!!\n",
      "request successed!!!\n"
     ]
    },
    {
     "name": "stderr",
     "output_type": "stream",
     "text": [
      " 22%|████████████████▋                                                          | 2/9 [01:02<03:19, 28.44s/it]"
     ]
    },
    {
     "name": "stdout",
     "output_type": "stream",
     "text": [
      "request successed!!!\n",
      "request successed!!!\n"
     ]
    },
    {
     "name": "stderr",
     "output_type": "stream",
     "text": [
      " 33%|█████████████████████████                                                  | 3/9 [01:17<02:12, 22.05s/it]"
     ]
    },
    {
     "name": "stdout",
     "output_type": "stream",
     "text": [
      "request successed!!!\n"
     ]
    },
    {
     "name": "stderr",
     "output_type": "stream",
     "text": [
      " 44%|█████████████████████████████████▎                                         | 4/9 [01:24<01:21, 16.31s/it]"
     ]
    },
    {
     "name": "stdout",
     "output_type": "stream",
     "text": [
      "request successed!!!\n",
      "request successed!!!\n"
     ]
    },
    {
     "name": "stderr",
     "output_type": "stream",
     "text": [
      " 56%|█████████████████████████████████████████▋                                 | 5/9 [01:38<01:01, 15.49s/it]"
     ]
    },
    {
     "name": "stdout",
     "output_type": "stream",
     "text": [
      "request successed!!!\n",
      "request successed!!!\n",
      "request successed!!!\n",
      "request successed!!!\n",
      "request successed!!!\n",
      "request successed!!!\n",
      "request successed!!!\n",
      "request successed!!!\n",
      "request successed!!!\n",
      "request successed!!!\n",
      "request successed!!!\n"
     ]
    },
    {
     "name": "stderr",
     "output_type": "stream",
     "text": [
      " 67%|██████████████████████████████████████████████████                         | 6/9 [02:50<01:43, 34.49s/it]"
     ]
    },
    {
     "name": "stdout",
     "output_type": "stream",
     "text": [
      "request successed!!!\n"
     ]
    },
    {
     "name": "stderr",
     "output_type": "stream",
     "text": [
      " 78%|██████████████████████████████████████████████████████████▎                | 7/9 [02:58<00:51, 25.93s/it]"
     ]
    },
    {
     "name": "stdout",
     "output_type": "stream",
     "text": [
      "request successed!!!\n",
      "request successed!!!\n"
     ]
    },
    {
     "name": "stderr",
     "output_type": "stream",
     "text": [
      " 89%|██████████████████████████████████████████████████████████████████▋        | 8/9 [03:08<00:20, 20.67s/it]"
     ]
    },
    {
     "name": "stdout",
     "output_type": "stream",
     "text": [
      "request successed!!!\n"
     ]
    },
    {
     "name": "stderr",
     "output_type": "stream",
     "text": [
      "100%|███████████████████████████████████████████████████████████████████████████| 9/9 [03:15<00:00, 21.73s/it]\n"
     ]
    }
   ],
   "source": [
    "product_data_lst = []\n",
    "\n",
    "for tpl in tqdm(product_tpls, total=len(product_tpls)):\n",
    "    headers = {\n",
    "            'User-Agent': 'Mozilla/5.0 (Windows NT 10.0; Win64; x64) AppleWebKit/537.36 (KHTML, like Gecko) \\\n",
    "                            Chrome/130.0.0.0 Safari/537.36 Edg/130.0.0.0',\n",
    "            'Accept': 'application/json, text/plain, */*',\n",
    "            'Accept-Language': 'vi-VN,vi;q=0.8,en-US;q=0.5,en;q=0.3',\n",
    "            'Referer': 'https://tiki.vn/?src=header_tiki',\n",
    "            'x-guest-token': '1QJlEwfALPxDmIkXyaFVheKH73SNqTtp',\n",
    "            'Connection': 'keep-alive',\n",
    "            'TE': 'Trailers',\n",
    "        }\n",
    "        \n",
    "    params = {     # in payload\n",
    "        'limit': '40',\n",
    "        'include': 'advertisement',\n",
    "        'aggregations': '2',\n",
    "        'trackity_id': 'e754a09e-ead7-eac2-8f8e-44b00fa8f486',\n",
    "        'category': tpl[1],\n",
    "        'page': '1',\n",
    "        'src': tpl[2],\n",
    "        'urlKey':  tpl[0],\n",
    "    }\n",
    "\n",
    "\n",
    "    for i in range(1, tpl[3] + 1):\n",
    "        params['page'] = i\n",
    "        response = requests.get('https://tiki.vn/api/personalish/v1/blocks/listings', headers=headers, params=params)\n",
    "        # response = requests.get('https://tiki.vn/api/v2/products', headers=headers, params=params)\n",
    "        if response.status_code == 200:\n",
    "            print('request successed!!!')\n",
    "            for product_record in response.json().get('data'):\n",
    "                product_data = parser_product(product_record)\n",
    "                product_data['subcategory_name'] = tpl[0]\n",
    "                product_data_lst.append(product_data)\n",
    "                # print(product_record.get('id'))\n",
    "        else: \n",
    "            print('request failed!!!')\n",
    "            continue\n",
    "        time.sleep(random.randrange(3, 10))"
   ]
  },
  {
   "cell_type": "markdown",
   "id": "6c45e306-2a4a-4672-92b2-d61a722de315",
   "metadata": {},
   "source": [
    "## Data cleansing"
   ]
  },
  {
   "cell_type": "markdown",
   "id": "6c20be2c-c5f7-42b5-a030-10b47f68e5f1",
   "metadata": {},
   "source": [
    "### Drop duplicated values and fill missing values"
   ]
  },
  {
   "cell_type": "code",
   "execution_count": 217,
   "id": "cc477370-b100-427c-830a-b6be977d3ec8",
   "metadata": {},
   "outputs": [],
   "source": [
    "df_product_data = pd.DataFrame(product_data_lst)\n",
    "df_product_data = df_product_data.drop_duplicates()\n",
    "df_product_data = df_product_data.sort_values(by=['id', 'price(vnd)', 'discount'])\n",
    "df_product_data = df_product_data.drop_duplicates(subset='id', keep='last')"
   ]
  },
  {
   "cell_type": "code",
   "execution_count": 218,
   "id": "e2560ee9-b0c0-44a7-836d-67d0d662f134",
   "metadata": {},
   "outputs": [],
   "source": [
    "df_product_data['quantity_sold'] = df_product_data['quantity_sold'].fillna(0)"
   ]
  },
  {
   "cell_type": "markdown",
   "id": "94ca7d5c-d5f1-43a5-aebc-8e22bc69f719",
   "metadata": {},
   "source": [
    "### Categorize product data"
   ]
  },
  {
   "cell_type": "code",
   "execution_count": 219,
   "id": "d3cea8b5-c8ab-49cb-9759-8574234c04e2",
   "metadata": {},
   "outputs": [],
   "source": [
    "phone_lst = ['dien-thoai-smartphone', 'dien-thoai-pho-thong', 'dien-thoai-ban']\n",
    "tablet_lst = ['may-tinh-bang', 'may-doc-sach']\n",
    "laptop_lst = ['laptop-truyen-thong', 'macbook-imac', 'laptop-gaming', 'laptop-2-trong-1']"
   ]
  },
  {
   "cell_type": "code",
   "execution_count": 220,
   "id": "62a6cc0c-b62e-46fa-918d-b7399ff23a1b",
   "metadata": {},
   "outputs": [],
   "source": [
    "# Create a new column based on product_type\n",
    "def categorize_product(product_type):\n",
    "    if product_type in phone_lst:\n",
    "        return 'Điện thoại'\n",
    "    elif product_type in tablet_lst:\n",
    "        return 'Máy tính bảng'\n",
    "    else:\n",
    "        return 'Laptop'  # For products not in either list"
   ]
  },
  {
   "cell_type": "code",
   "execution_count": 221,
   "id": "b6209bde-9967-4b09-84a8-371b279e5252",
   "metadata": {},
   "outputs": [],
   "source": [
    "df_product_data['category_name'] = df_product_data['subcategory_name'].apply(categorize_product)"
   ]
  },
  {
   "cell_type": "code",
   "execution_count": 223,
   "id": "a4ac0e82-481e-436f-97c9-bdfe1e2ff6f5",
   "metadata": {},
   "outputs": [
    {
     "data": {
      "text/html": [
       "<div>\n",
       "<style scoped>\n",
       "    .dataframe tbody tr th:only-of-type {\n",
       "        vertical-align: middle;\n",
       "    }\n",
       "\n",
       "    .dataframe tbody tr th {\n",
       "        vertical-align: top;\n",
       "    }\n",
       "\n",
       "    .dataframe thead th {\n",
       "        text-align: right;\n",
       "    }\n",
       "</style>\n",
       "<table border=\"1\" class=\"dataframe\">\n",
       "  <thead>\n",
       "    <tr style=\"text-align: right;\">\n",
       "      <th></th>\n",
       "      <th>id</th>\n",
       "      <th>product_name</th>\n",
       "      <th>price(vnd)</th>\n",
       "      <th>original_price</th>\n",
       "      <th>discount</th>\n",
       "      <th>discount_rate(%)</th>\n",
       "      <th>review_count</th>\n",
       "      <th>rating_average</th>\n",
       "      <th>quantity_sold</th>\n",
       "      <th>brand_name</th>\n",
       "      <th>origin</th>\n",
       "      <th>subcategory_name</th>\n",
       "      <th>category_name</th>\n",
       "    </tr>\n",
       "  </thead>\n",
       "  <tbody>\n",
       "    <tr>\n",
       "      <th>449</th>\n",
       "      <td>4048043</td>\n",
       "      <td>Điện Thoại Bàn Panasonic KX-TS500</td>\n",
       "      <td>329000</td>\n",
       "      <td>359000</td>\n",
       "      <td>30000</td>\n",
       "      <td>8</td>\n",
       "      <td>25</td>\n",
       "      <td>4.5</td>\n",
       "      <td>314.0</td>\n",
       "      <td>Panasonic</td>\n",
       "      <td>None</td>\n",
       "      <td>dien-thoai-ban</td>\n",
       "      <td>Điện thoại</td>\n",
       "    </tr>\n",
       "    <tr>\n",
       "      <th>478</th>\n",
       "      <td>4048581</td>\n",
       "      <td>Điện Thoại Bàn Panasonic KX-TSC11</td>\n",
       "      <td>689000</td>\n",
       "      <td>689000</td>\n",
       "      <td>0</td>\n",
       "      <td>0</td>\n",
       "      <td>9</td>\n",
       "      <td>4.5</td>\n",
       "      <td>65.0</td>\n",
       "      <td>Panasonic</td>\n",
       "      <td>None</td>\n",
       "      <td>dien-thoai-ban</td>\n",
       "      <td>Điện thoại</td>\n",
       "    </tr>\n",
       "    <tr>\n",
       "      <th>476</th>\n",
       "      <td>11251711</td>\n",
       "      <td>Điện thoại bàn không dây Panasonic KX-TGD312 -...</td>\n",
       "      <td>1920000</td>\n",
       "      <td>1920000</td>\n",
       "      <td>0</td>\n",
       "      <td>0</td>\n",
       "      <td>4</td>\n",
       "      <td>4.8</td>\n",
       "      <td>9.0</td>\n",
       "      <td>Panasonic</td>\n",
       "      <td>Việt Nam</td>\n",
       "      <td>dien-thoai-ban</td>\n",
       "      <td>Điện thoại</td>\n",
       "    </tr>\n",
       "    <tr>\n",
       "      <th>492</th>\n",
       "      <td>11251735</td>\n",
       "      <td>Điện thoại bàn không dây Panasonic KX-TGC312 -...</td>\n",
       "      <td>1750000</td>\n",
       "      <td>1750000</td>\n",
       "      <td>0</td>\n",
       "      <td>0</td>\n",
       "      <td>1</td>\n",
       "      <td>5.0</td>\n",
       "      <td>11.0</td>\n",
       "      <td>Panasonic</td>\n",
       "      <td>None</td>\n",
       "      <td>dien-thoai-ban</td>\n",
       "      <td>Điện thoại</td>\n",
       "    </tr>\n",
       "    <tr>\n",
       "      <th>459</th>\n",
       "      <td>11251743</td>\n",
       "      <td>Điện thoại bàn không dây Panasonic KX-TGB112 -...</td>\n",
       "      <td>1260000</td>\n",
       "      <td>1260000</td>\n",
       "      <td>0</td>\n",
       "      <td>0</td>\n",
       "      <td>4</td>\n",
       "      <td>5.0</td>\n",
       "      <td>24.0</td>\n",
       "      <td>Panasonic</td>\n",
       "      <td>None</td>\n",
       "      <td>dien-thoai-ban</td>\n",
       "      <td>Điện thoại</td>\n",
       "    </tr>\n",
       "  </tbody>\n",
       "</table>\n",
       "</div>"
      ],
      "text/plain": [
       "           id                                       product_name  price(vnd)  \\\n",
       "449   4048043                  Điện Thoại Bàn Panasonic KX-TS500      329000   \n",
       "478   4048581                  Điện Thoại Bàn Panasonic KX-TSC11      689000   \n",
       "476  11251711  Điện thoại bàn không dây Panasonic KX-TGD312 -...     1920000   \n",
       "492  11251735  Điện thoại bàn không dây Panasonic KX-TGC312 -...     1750000   \n",
       "459  11251743  Điện thoại bàn không dây Panasonic KX-TGB112 -...     1260000   \n",
       "\n",
       "     original_price  discount  discount_rate(%)  review_count  rating_average  \\\n",
       "449          359000     30000                 8            25             4.5   \n",
       "478          689000         0                 0             9             4.5   \n",
       "476         1920000         0                 0             4             4.8   \n",
       "492         1750000         0                 0             1             5.0   \n",
       "459         1260000         0                 0             4             5.0   \n",
       "\n",
       "     quantity_sold brand_name    origin subcategory_name category_name  \n",
       "449          314.0  Panasonic      None   dien-thoai-ban    Điện thoại  \n",
       "478           65.0  Panasonic      None   dien-thoai-ban    Điện thoại  \n",
       "476            9.0  Panasonic  Việt Nam   dien-thoai-ban    Điện thoại  \n",
       "492           11.0  Panasonic      None   dien-thoai-ban    Điện thoại  \n",
       "459           24.0  Panasonic      None   dien-thoai-ban    Điện thoại  "
      ]
     },
     "execution_count": 223,
     "metadata": {},
     "output_type": "execute_result"
    }
   ],
   "source": [
    "df_product_data.head()"
   ]
  },
  {
   "cell_type": "code",
   "execution_count": 224,
   "id": "88e0872f-a2e9-47e1-b54c-419afd8676c3",
   "metadata": {},
   "outputs": [],
   "source": [
    "df_product_data.to_csv('tiki_product_data.csv', index=False)"
   ]
  }
 ],
 "metadata": {
  "kernelspec": {
   "display_name": "local-dev-py3.12",
   "language": "python",
   "name": "local-dev-py3.12"
  },
  "language_info": {
   "codemirror_mode": {
    "name": "ipython",
    "version": 3
   },
   "file_extension": ".py",
   "mimetype": "text/x-python",
   "name": "python",
   "nbconvert_exporter": "python",
   "pygments_lexer": "ipython3",
   "version": "3.12.5"
  }
 },
 "nbformat": 4,
 "nbformat_minor": 5
}
